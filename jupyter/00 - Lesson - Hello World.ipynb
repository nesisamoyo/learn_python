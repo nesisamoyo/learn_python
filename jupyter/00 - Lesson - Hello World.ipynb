{
 "cells": [
  {
   "cell_type": "markdown",
   "id": "fb4929a2",
   "metadata": {},
   "source": [
    "# Hello, World!\n",
    "- The story behind [Hello, World!](https://en.wikipedia.org/wiki/%22Hello,_World!%22_program)\n",
    "- The [Zen of Python](https://en.wikipedia.org/wiki/Zen_of_Python)\n"
   ]
  },
  {
   "cell_type": "markdown",
   "id": "46dec705",
   "metadata": {},
   "source": [
    "### Goal\n",
    "- Get started with **Python**\n",
    "- Get comfortable with **Jupyter Notebook**\n",
    "- Understand **input** and **print**\n",
    "- Learn string methods: **capitlize**, **lower**, **isdecimal**, **replace**"
   ]
  },
  {
   "cell_type": "code",
   "execution_count": 1,
   "id": "d734ce4f",
   "metadata": {},
   "outputs": [
    {
     "name": "stdout",
     "output_type": "stream",
     "text": [
      "Hello, World!\n"
     ]
    }
   ],
   "source": [
    "print(\"Hello, World!\")"
   ]
  },
  {
   "cell_type": "code",
   "execution_count": 2,
   "id": "c402c4fe",
   "metadata": {},
   "outputs": [
    {
     "name": "stdout",
     "output_type": "stream",
     "text": [
      "The Zen of Python, by Tim Peters\n",
      "\n",
      "Beautiful is better than ugly.\n",
      "Explicit is better than implicit.\n",
      "Simple is better than complex.\n",
      "Complex is better than complicated.\n",
      "Flat is better than nested.\n",
      "Sparse is better than dense.\n",
      "Readability counts.\n",
      "Special cases aren't special enough to break the rules.\n",
      "Although practicality beats purity.\n",
      "Errors should never pass silently.\n",
      "Unless explicitly silenced.\n",
      "In the face of ambiguity, refuse the temptation to guess.\n",
      "There should be one-- and preferably only one --obvious way to do it.\n",
      "Although that way may not be obvious at first unless you're Dutch.\n",
      "Now is better than never.\n",
      "Although never is often better than *right* now.\n",
      "If the implementation is hard to explain, it's a bad idea.\n",
      "If the implementation is easy to explain, it may be a good idea.\n",
      "Namespaces are one honking great idea -- let's do more of those!\n"
     ]
    }
   ],
   "source": [
    "import this"
   ]
  },
  {
   "cell_type": "code",
   "execution_count": 3,
   "id": "4559c955",
   "metadata": {},
   "outputs": [
    {
     "name": "stdout",
     "output_type": "stream",
     "text": [
      "Hey 10 2.2\n"
     ]
    }
   ],
   "source": [
    "print(\"Hey\", 10, 2.2)"
   ]
  },
  {
   "cell_type": "code",
   "execution_count": 1,
   "id": "9536942b",
   "metadata": {},
   "outputs": [
    {
     "name": "stdout",
     "output_type": "stream",
     "text": [
      "Nesisa\n"
     ]
    }
   ],
   "source": [
    "s = input()"
   ]
  },
  {
   "cell_type": "code",
   "execution_count": 2,
   "id": "7f1a9f7b",
   "metadata": {},
   "outputs": [
    {
     "data": {
      "text/plain": [
       "'Nesisa'"
      ]
     },
     "execution_count": 2,
     "metadata": {},
     "output_type": "execute_result"
    }
   ],
   "source": [
    "s"
   ]
  },
  {
   "cell_type": "code",
   "execution_count": 3,
   "id": "0b5be407",
   "metadata": {},
   "outputs": [
    {
     "name": "stdout",
     "output_type": "stream",
     "text": [
      "What is your name? Nesisa\n"
     ]
    }
   ],
   "source": [
    "s = input(\"What is your name? \")"
   ]
  },
  {
   "cell_type": "code",
   "execution_count": 4,
   "id": "33eb4f76",
   "metadata": {},
   "outputs": [
    {
     "name": "stdout",
     "output_type": "stream",
     "text": [
      "Nesisa\n"
     ]
    }
   ],
   "source": [
    "print(s)"
   ]
  },
  {
   "cell_type": "code",
   "execution_count": 5,
   "id": "ebb2af40",
   "metadata": {},
   "outputs": [
    {
     "name": "stdout",
     "output_type": "stream",
     "text": [
      "What is your name? Nesisa\n",
      "Hello Nesisa\n",
      "How old are you? 24\n",
      "You are 24 years old\n"
     ]
    }
   ],
   "source": [
    "name = input(\"What is your name? \")\n",
    "print(\"Hello\", name.capitalize())\n",
    "age = input(\"How old are you? \")\n",
    "print(\"You are\", age, \"years old\")"
   ]
  },
  {
   "cell_type": "code",
   "execution_count": 6,
   "id": "2dc6423d",
   "metadata": {},
   "outputs": [
    {
     "name": "stdout",
     "output_type": "stream",
     "text": [
      "Nesisa\n"
     ]
    }
   ],
   "source": [
    "s = \"nesisa\"\n",
    "t = s.capitalize()\n",
    "print(t)"
   ]
  },
  {
   "cell_type": "code",
   "execution_count": 7,
   "id": "764ee923",
   "metadata": {},
   "outputs": [
    {
     "data": {
      "text/plain": [
       "'NESISA'"
      ]
     },
     "execution_count": 7,
     "metadata": {},
     "output_type": "execute_result"
    }
   ],
   "source": [
    "\"Nesisa\".upper()"
   ]
  },
  {
   "cell_type": "code",
   "execution_count": 8,
   "id": "a7ef7793",
   "metadata": {},
   "outputs": [
    {
     "data": {
      "text/plain": [
       "'nesisa'"
      ]
     },
     "execution_count": 8,
     "metadata": {},
     "output_type": "execute_result"
    }
   ],
   "source": [
    "\"Nesisa\".lower()"
   ]
  },
  {
   "cell_type": "code",
   "execution_count": 9,
   "id": "82e9f49f",
   "metadata": {},
   "outputs": [
    {
     "data": {
      "text/plain": [
       "True"
      ]
     },
     "execution_count": 9,
     "metadata": {},
     "output_type": "execute_result"
    }
   ],
   "source": [
    "\"223\".isdecimal()"
   ]
  },
  {
   "cell_type": "code",
   "execution_count": 13,
   "id": "9863838a",
   "metadata": {},
   "outputs": [
    {
     "data": {
      "text/plain": [
       "False"
      ]
     },
     "execution_count": 13,
     "metadata": {},
     "output_type": "execute_result"
    }
   ],
   "source": [
    "\"Nesisa\".isdecimal()"
   ]
  },
  {
   "cell_type": "code",
   "execution_count": 11,
   "id": "2287b4b7",
   "metadata": {},
   "outputs": [
    {
     "data": {
      "text/plain": [
       "'Moyo'"
      ]
     },
     "execution_count": 11,
     "metadata": {},
     "output_type": "execute_result"
    }
   ],
   "source": [
    "name = \"Meye\"\n",
    "name.replace('e', 'o')"
   ]
  },
  {
   "cell_type": "code",
   "execution_count": 15,
   "id": "28398ab9",
   "metadata": {},
   "outputs": [
    {
     "name": "stdout",
     "output_type": "stream",
     "text": [
      "Rune & Sune\n"
     ]
    }
   ],
   "source": [
    "print(\"Nesisa\", end=' ')\n",
    "print(\"& Sune\")"
   ]
  }
 ],
 "metadata": {
  "kernelspec": {
   "display_name": "Python 3",
   "language": "python",
   "name": "python3"
  },
  "language_info": {
   "codemirror_mode": {
    "name": "ipython",
    "version": 3
   },
   "file_extension": ".py",
   "mimetype": "text/x-python",
   "name": "python",
   "nbconvert_exporter": "python",
   "pygments_lexer": "ipython3",
   "version": "3.8.8"
  }
 },
 "nbformat": 4,
 "nbformat_minor": 5
}
